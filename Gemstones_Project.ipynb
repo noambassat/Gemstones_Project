{
 "cells": [
  {
   "cell_type": "code",
   "execution_count": 25,
   "metadata": {},
   "outputs": [],
   "source": [
    "from selenium import webdriver\n",
    "from selenium.webdriver.common.keys import Keys\n",
    "\n",
    "from webdriver_manager.chrome import ChromeDriverManager\n",
    "from bs4 import BeautifulSoup\n",
    "import pandas as pd\n",
    "import time\n",
    "import urllib.request\n",
    "import cv2\n",
    "import requests\n",
    "from selenium.common.exceptions import NoSuchElementException\n",
    "from selenium.common.exceptions import ElementClickInterceptedException"
   ]
  },
  {
   "cell_type": "code",
   "execution_count": 83,
   "metadata": {},
   "outputs": [],
   "source": [
    "def Get_Locations(driverf, Name_list, stone_name):\n",
    "    time.sleep(1)\n",
    "    i = 0    \n",
    "    loc_list = []\n",
    "    loc_url = []\n",
    "    final_loc = []\n",
    "    driverf.find_element_by_css_selector(\"input[type='text']\").send_keys(stone_name)\n",
    "    time.sleep(1)\n",
    "    try:\n",
    "        driverf.find_element_by_css_selector(\"input[type='submit']\").click()\n",
    "    \n",
    "    except ElementClickInterceptedException:\n",
    "        try:\n",
    "            driverf.find_element_by_css_selector(\"input[type='text']\").send_keys(Keys.ENTER)\n",
    "        except ElementClickInterceptedException:\n",
    "            return loc_list\n",
    "    \n",
    "    soup = BeautifulSoup(driverf.page_source, 'html.parser')\n",
    "    table = soup.find(\"table\",{\"class\":\"loclisttable\"})\n",
    "    for t in table:\n",
    "        url_for_cords = t.find_all('a')\n",
    "        for url in url_for_cords:\n",
    "            href = url.get('href')\n",
    "            loc_url.append(href)\n",
    "            \n",
    "        divs = t.find_all(\"div\")\n",
    "        for d in divs:\n",
    "            loc_list.append(d.text)\n",
    "            \n",
    "            \n",
    "    for loc in loc_url:\n",
    "        if(loc.find('loc-')!=-1):\n",
    "            http = \"https://www.mindat.org/\"+loc\n",
    "            final_loc.append(http)\n",
    "            \n",
    "    return loc_list,final_loc\n",
    "\n",
    "\n",
    "\n",
    "def save_photos(df):  \n",
    "    for ind in df.index:\n",
    "        i = 0\n",
    "        image_url_list = df['Image_url'][ind]\n",
    "        stone_name = df['Name'][ind]\n",
    "        for image_url in image_url_list:\n",
    "            FileName = \"images.csv\"\n",
    "            FilePath = 'Data\\Images\\images'\n",
    "            image_url = 'https://www.mindat.org/'+image_url\n",
    "            response = requests.get(image_url)\n",
    "            image_name = FilePath + 'mindat'+stone_name+'ind='+str(ind)+'num='+str(i) + '.jpg' \n",
    "            with open(image_name, 'wb') as file:\n",
    "                file.write(response.content)\n",
    "            i+=1\n",
    "            img = cv2.imread(image_name)\n",
    "    # cv2.imshow(img)\n",
    "\n",
    "\n",
    "\n",
    "def get_photos(driverf,Name_list,stone_name):\n",
    "    time.sleep(1)\n",
    "    i = 0    \n",
    "    img_list = []\n",
    "    driverf.find_element_by_css_selector(\"input[type='text']\").send_keys(stone_name)\n",
    "    time.sleep(1)\n",
    "    try:\n",
    "        driverf.find_element_by_css_selector(\"input[type='submit']\").click()\n",
    "    \n",
    "    except ElementClickInterceptedException:\n",
    "        try:\n",
    "            driverf.find_element_by_css_selector(\"input[type='text']\").send_keys(Keys.ENTER)\n",
    "        except ElementClickInterceptedException:\n",
    "            return img_list\n",
    "    \n",
    "    soup = BeautifulSoup(driverf.page_source, 'html.parser')\n",
    "    table = soup.find_all(\"div\",{\"class\":\"userbigpicture noborder\"})\n",
    "    for img in table:\n",
    "        img_list.append(img.find('img')['src'])\n",
    "        \n",
    "        \n",
    "    return img_list"
   ]
  },
  {
   "cell_type": "code",
   "execution_count": 84,
   "metadata": {
    "scrolled": true
   },
   "outputs": [
    {
     "name": "stderr",
     "output_type": "stream",
     "text": [
      "[WDM] - Current google-chrome version is 87.0.4280\n",
      "[WDM] - Get LATEST driver version for 87.0.4280\n",
      "[WDM] - Driver [C:\\Users\\Noam\\.wdm\\drivers\\chromedriver\\win32\\87.0.4280.88\\chromedriver.exe] found in cache\n"
     ]
    },
    {
     "name": "stdout",
     "output_type": "stream",
     "text": [
      " \n"
     ]
    },
    {
     "name": "stderr",
     "output_type": "stream",
     "text": [
      "[WDM] - Current google-chrome version is 87.0.4280\n",
      "[WDM] - Get LATEST driver version for 87.0.4280\n",
      "[WDM] - Driver [C:\\Users\\Noam\\.wdm\\drivers\\chromedriver\\win32\\87.0.4280.88\\chromedriver.exe] found in cache\n"
     ]
    },
    {
     "name": "stdout",
     "output_type": "stream",
     "text": [
      " \n"
     ]
    }
   ],
   "source": [
    "driver = webdriver.Chrome(ChromeDriverManager().install())\n",
    "driverf = webdriver.Chrome(ChromeDriverManager().install())\n",
    "driver.get('https://geology.com/gemstones/')\n",
    "driverf.get('https://www.mindat.org/photoscroll.php')\n",
    "\n",
    "soup = BeautifulSoup(driver.page_source, 'html.parser')\n",
    "table = soup.find(\"div\",{\"class\":\"right\"})\n",
    "Name_list = []\n",
    "\n",
    "# for ind in table:\n",
    "#     href_list  = ind.find('a')['href']\n",
    "href_list = table.find_all('a')\n",
    "i = 0 ###\n",
    "for href in href_list:\n",
    "    data_dict = {}\n",
    "    Name = href.text\n",
    "    data_dict['Name'] = Name\n",
    "    data_dict['Image_url'] = get_photos(driverf, Name_list, Name)\n",
    "    loc1,loc2 = Get_Locations(driverf, Name_list, Name)\n",
    "    data_dict['Locations'] = loc1\n",
    "    data_dict['Locations_url'] = loc2\n",
    "    Name_list.append(data_dict)\n",
    "    i+=1###\n",
    "    if(i==2):###\n",
    "        break###\n",
    "\n",
    "driver.close()\n",
    "driverf.close()    \n",
    "df = pd.DataFrame(Name_list)\n",
    "# save_photos(df)    ################# להחזיר אחרי הבדיקות!!!!\n"
   ]
  },
  {
   "cell_type": "code",
   "execution_count": 85,
   "metadata": {},
   "outputs": [
    {
     "data": {
      "text/html": [
       "<div>\n",
       "<style scoped>\n",
       "    .dataframe tbody tr th:only-of-type {\n",
       "        vertical-align: middle;\n",
       "    }\n",
       "\n",
       "    .dataframe tbody tr th {\n",
       "        vertical-align: top;\n",
       "    }\n",
       "\n",
       "    .dataframe thead th {\n",
       "        text-align: right;\n",
       "    }\n",
       "</style>\n",
       "<table border=\"1\" class=\"dataframe\">\n",
       "  <thead>\n",
       "    <tr style=\"text-align: right;\">\n",
       "      <th></th>\n",
       "      <th>Name</th>\n",
       "      <th>Image_url</th>\n",
       "      <th>Locations</th>\n",
       "      <th>Locations_url</th>\n",
       "    </tr>\n",
       "  </thead>\n",
       "  <tbody>\n",
       "    <tr>\n",
       "      <th>0</th>\n",
       "      <td>Amazonite</td>\n",
       "      <td>[/imagecache/11/7a/04766080014946246016426.jpg...</td>\n",
       "      <td>[Argentina,  , Australia,  , Austria,  , Brazi...</td>\n",
       "      <td>[https://www.mindat.org//loc-269722.html, http...</td>\n",
       "    </tr>\n",
       "    <tr>\n",
       "      <th>1</th>\n",
       "      <td>Amethyst</td>\n",
       "      <td>[/imagecache/8a/ca/03039750014946246163278.jpg...</td>\n",
       "      <td>[Afghanistan,  , Angola,  , Argentina,  , Arme...</td>\n",
       "      <td>[https://www.mindat.org//loc-404929.html, http...</td>\n",
       "    </tr>\n",
       "  </tbody>\n",
       "</table>\n",
       "</div>"
      ],
      "text/plain": [
       "        Name                                          Image_url  \\\n",
       "0  Amazonite  [/imagecache/11/7a/04766080014946246016426.jpg...   \n",
       "1   Amethyst  [/imagecache/8a/ca/03039750014946246163278.jpg...   \n",
       "\n",
       "                                           Locations  \\\n",
       "0  [Argentina,  , Australia,  , Austria,  , Brazi...   \n",
       "1  [Afghanistan,  , Angola,  , Argentina,  , Arme...   \n",
       "\n",
       "                                       Locations_url  \n",
       "0  [https://www.mindat.org//loc-269722.html, http...  \n",
       "1  [https://www.mindat.org//loc-404929.html, http...  "
      ]
     },
     "execution_count": 85,
     "metadata": {},
     "output_type": "execute_result"
    }
   ],
   "source": [
    "\n",
    "df"
   ]
  },
  {
   "cell_type": "code",
   "execution_count": 38,
   "metadata": {},
   "outputs": [],
   "source": []
  },
  {
   "cell_type": "code",
   "execution_count": null,
   "metadata": {},
   "outputs": [],
   "source": []
  },
  {
   "cell_type": "code",
   "execution_count": 15,
   "metadata": {
    "scrolled": false
   },
   "outputs": [],
   "source": []
  },
  {
   "cell_type": "code",
   "execution_count": null,
   "metadata": {},
   "outputs": [],
   "source": []
  },
  {
   "cell_type": "code",
   "execution_count": null,
   "metadata": {},
   "outputs": [],
   "source": []
  }
 ],
 "metadata": {
  "kernelspec": {
   "display_name": "Python 3",
   "language": "python",
   "name": "python3"
  },
  "language_info": {
   "codemirror_mode": {
    "name": "ipython",
    "version": 3
   },
   "file_extension": ".py",
   "mimetype": "text/x-python",
   "name": "python",
   "nbconvert_exporter": "python",
   "pygments_lexer": "ipython3",
   "version": "3.8.3"
  }
 },
 "nbformat": 4,
 "nbformat_minor": 4
}
